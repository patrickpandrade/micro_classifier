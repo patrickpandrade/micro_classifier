{
 "cells": [
  {
   "cell_type": "code",
   "execution_count": null,
   "id": "33c75cec",
   "metadata": {},
   "outputs": [],
   "source": [
    "# Notebook utilizado para divir o áudio em número de amostras\n",
    "import librosa as lb\n",
    "import numpy as np\n",
    "import soundfile as sf\n"
   ]
  },
  {
   "cell_type": "code",
   "execution_count": null,
   "id": "a4e90682",
   "metadata": {},
   "outputs": [],
   "source": [
    "# Diretório da localização dos áudios\n",
    "dir_file = \"dataset-16kHz-16b-1s-randomforest/_background_noise_/\"\n",
    "# Arquivo a ser processado\n",
    "file = \"white_noise.wav\"\n",
    "audio_file = dir_file + file\n",
    "# Definição do taxa de amostragem (Sampling Rate)\n",
    "sr = 16000\n",
    "x, sr = lb.load(audio_file, sr=sr)\n",
    "\n",
    "# Definição da quantidade de amostras por arquivo\n",
    "frames_per_file = 16000\n",
    "total_frames = len(x)\n",
    "num_part = int(total_frames / frames_per_file)\n",
    "\n",
    "# Fragmentação do arquivo em pedaçõs com de frames_per_file amostras\n",
    "seq = 0\n",
    "for i in range(num_part):\n",
    "    out_file = dir_file + str(i+seq) + \".wav\"\n",
    "    print(\"exporting\", out_file)\n",
    "    sf.write(out_file, x[(i*frames_per_file):(i*frames_per_file + frames_per_file)], sr)"
   ]
  }
 ],
 "metadata": {
  "kernelspec": {
   "display_name": "Python 3 (ipykernel)",
   "language": "python",
   "name": "python3"
  },
  "language_info": {
   "codemirror_mode": {
    "name": "ipython",
    "version": 3
   },
   "file_extension": ".py",
   "mimetype": "text/x-python",
   "name": "python",
   "nbconvert_exporter": "python",
   "pygments_lexer": "ipython3",
   "version": "3.10.9"
  }
 },
 "nbformat": 4,
 "nbformat_minor": 5
}
