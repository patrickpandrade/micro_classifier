{
 "cells": [
  {
   "cell_type": "code",
   "execution_count": 1,
   "id": "09f149da",
   "metadata": {},
   "outputs": [],
   "source": [
    "# OBS: TREINAMENTO COM 16kHz, 16b e 1s"
   ]
  },
  {
   "cell_type": "code",
   "execution_count": 2,
   "id": "34310ef5",
   "metadata": {},
   "outputs": [],
   "source": [
    "import os\n",
    "import pathlib\n",
    "\n",
    "import matplotlib.pyplot as plt\n",
    "import numpy as np\n",
    "import seaborn as sns\n",
    "import tensorflow as tf\n",
    "import pandas as pd\n",
    "\n",
    "from tensorflow.keras import layers\n",
    "from tensorflow.keras import models\n",
    "from IPython import display\n",
    "from sklearn.ensemble import RandomForestClassifier\n",
    "from sklearn.model_selection import train_test_split\n",
    "\n",
    "# Set the seed value for experiment reproducibility.\n",
    "seed = 42\n",
    "tf.random.set_seed(seed)\n",
    "np.random.seed(seed)"
   ]
  },
  {
   "cell_type": "code",
   "execution_count": 3,
   "id": "45d86115",
   "metadata": {},
   "outputs": [],
   "source": [
    "import sys\n",
    "# We add this path so we can import the speech processing modules.\n",
    "sys.path.append(\"tensorflow/tensorflow/examples/speech_commands/\")\n",
    "import input_data\n",
    "import models"
   ]
  },
  {
   "cell_type": "code",
   "execution_count": 4,
   "id": "bbfded3e",
   "metadata": {},
   "outputs": [
    {
     "name": "stdout",
     "output_type": "stream",
     "text": [
      "Training these words: bom,mediano,ruim\n",
      "Training steps in each stage: 4000,1000\n",
      "Learning rate in each stage: 0.001,0.0001\n",
      "Total number of training steps: 5000\n"
     ]
    }
   ],
   "source": [
    "# Uma lista delimitada por vírgulas das palavras que você deseja treinar.\n",
    "# As opções são: sim, não, cima, baixo, esquerda, direita, ligar, desligar, parar, ir\n",
    "# Todas as outras palavras serão usadas para treinar um rótulo \"desconhecido\" e silenciar\n",
    "# dados de áudio sem palavras faladas serão usados ​​para treinar um rótulo de \"silêncio\".\n",
    "WANTED_WORDS = \"bom,mediano,ruim\"\n",
    "\n",
    "# O número de etapas e taxas de aprendizagem podem ser especificados separados por vírgula\n",
    "# listas para definir a taxa em cada etapa. Por exemplo,\n",
    "#TRAINING_STEPS=12000,3000 e LEARNING_RATE=0,001,0,0001\n",
    "# executará 12.000 loops de treinamento no total, com uma taxa de 0,001 para o primeiro\n",
    "# 8.000 e 0,0001 para os 3.000 finais.\n",
    "TRAINING_STEPS = \"4000,1000\" #MODIFIED TO MAKE FASTER - WAS 12000,3000\n",
    "LEARNING_RATE = \"0.001,0.0001\"\n",
    "\n",
    "# Calcule o número total de etapas usadas para identificar o ponto de verificação\n",
    "# nome do arquivo.\n",
    "TOTAL_STEPS = str(sum(map(lambda string: int(string), TRAINING_STEPS.split(\",\"))))\n",
    "\n",
    "# Print the configuration to confirm it\n",
    "print(\"Training these words: %s\" % WANTED_WORDS)\n",
    "print(\"Training steps in each stage: %s\" % TRAINING_STEPS)\n",
    "print(\"Learning rate in each stage: %s\" % LEARNING_RATE)\n",
    "print(\"Total number of training steps: %s\" % TOTAL_STEPS)"
   ]
  },
  {
   "cell_type": "code",
   "execution_count": 5,
   "id": "0bfd8ea9",
   "metadata": {},
   "outputs": [],
   "source": [
    "# Calculate the percentage of 'silence' and 'unknown' training samples required\n",
    "# to ensure that we have equal number of samples for each label.\n",
    "number_of_labels = WANTED_WORDS.count(',') + 1\n",
    "number_of_total_labels = number_of_labels + 2 # for 'silence' and 'unknown' label\n",
    "equal_percentage_of_training_samples = int(100.0/(number_of_total_labels))\n",
    "SILENT_PERCENTAGE = equal_percentage_of_training_samples\n",
    "UNKNOWN_PERCENTAGE = equal_percentage_of_training_samples\n",
    "\n",
    "# Constants which are shared during training and inference\n",
    "PREPROCESS = 'micro' # Modificado from 'micro' to 'average'\n",
    "WINDOW_STRIDE = 20.0\n",
    "MODEL_ARCHITECTURE = 'tiny_conv' # Other options include: single_fc, conv,\n",
    "                      # low_latency_conv, low_latency_svdf, tiny_embedding_conv\n",
    "\n",
    "# Constants used during training only\n",
    "VERBOSITY = 'INFO' # MODIFIED FROM WARN TO INFO\n",
    "EVAL_STEP_INTERVAL = '1000'\n",
    "SAVE_STEP_INTERVAL = '1000'\n",
    "# ADDED FOR INSPECCION\n",
    "BACKGROUND_FREQUENCY = 0.8 #MODIFIED FROM 0.8 TO 0.4\n",
    "BACKGROUND_VOLUME_RANGE = 0.1\n",
    "TIME_SHIFT_MS = 100.0 #MODIFIED FROM 100 TO 0\n",
    "\n",
    "\n",
    "# Constants for training directories and filepaths\n",
    "DATASET_DIR =  'dataset-16kHz-16b-1s/'\n",
    "LOGS_DIR = 'logs/'\n",
    "TRAIN_DIR = 'train/' # for training checkpoints and other files.\n",
    "\n",
    "# Constants for inference directories and filepaths\n",
    "import os\n",
    "MODELS_DIR = 'models'\n",
    "if not os.path.exists(MODELS_DIR):\n",
    "  os.mkdir(MODELS_DIR)\n",
    "MODEL_TF = os.path.join(MODELS_DIR, 'model.pb')\n",
    "MODEL_TFLITE = os.path.join(MODELS_DIR, 'model.tflite')\n",
    "FLOAT_MODEL_TFLITE = os.path.join(MODELS_DIR, 'float_model.tflite')\n",
    "MODEL_TFLITE_MICRO = os.path.join(MODELS_DIR, 'model.cc')\n",
    "SAVED_MODEL = os.path.join(MODELS_DIR, 'saved_model')\n",
    "\n",
    "QUANT_INPUT_MIN = 0.0\n",
    "QUANT_INPUT_MAX = 26.0\n",
    "QUANT_INPUT_RANGE = QUANT_INPUT_MAX - QUANT_INPUT_MIN"
   ]
  },
  {
   "cell_type": "code",
   "execution_count": 6,
   "id": "fe24dce5",
   "metadata": {},
   "outputs": [],
   "source": [
    "SAMPLE_RATE = 16000\n",
    "CLIP_DURATION_MS = 1000\n",
    "WINDOW_SIZE_MS = 30.0\n",
    "FEATURE_BIN_COUNT = 40\n",
    "#DATA_URL = 'https://storage.googleapis.com/download.tensorflow.org/data/speech_commands_v0.02.tar.gz'\n",
    "DATA_URL = ''\n",
    "VALIDATION_PERCENTAGE = 10\n",
    "TESTING_PERCENTAGE = 10"
   ]
  },
  {
   "cell_type": "code",
   "execution_count": 7,
   "id": "f5eae829",
   "metadata": {},
   "outputs": [],
   "source": [
    "model_settings = models.prepare_model_settings(\n",
    "    len(input_data.prepare_words_list(WANTED_WORDS.split(','))),\n",
    "    SAMPLE_RATE, CLIP_DURATION_MS, WINDOW_SIZE_MS,\n",
    "    WINDOW_STRIDE, FEATURE_BIN_COUNT, PREPROCESS)\n",
    "audio_processor = input_data.AudioProcessor(\n",
    "    DATA_URL, DATASET_DIR,\n",
    "    SILENT_PERCENTAGE, UNKNOWN_PERCENTAGE,\n",
    "    WANTED_WORDS.split(','), VALIDATION_PERCENTAGE,\n",
    "    TESTING_PERCENTAGE, model_settings, LOGS_DIR)"
   ]
  },
  {
   "cell_type": "code",
   "execution_count": 8,
   "id": "03fee315",
   "metadata": {},
   "outputs": [],
   "source": [
    "# Load training data\n",
    "np.random.seed(0) # set random seed for reproducible test results.\n",
    "with tf.compat.v1.Session() as sess:\n",
    "    train_data, train_labels = audio_processor.get_data(\n",
    "        -1, 0, model_settings, BACKGROUND_FREQUENCY, BACKGROUND_VOLUME_RANGE,\n",
    "        TIME_SHIFT_MS, 'training', sess)\n"
   ]
  },
  {
   "cell_type": "code",
   "execution_count": 9,
   "id": "b60aaeba",
   "metadata": {},
   "outputs": [
    {
     "name": "stdout",
     "output_type": "stream",
     "text": [
      "(3098, 1960)\n",
      "<class 'numpy.float64'>\n",
      "[20.35837555 20.82168579 19.81330681 ... 16.78816605 17.387743\n",
      " 16.84267235]\n",
      "(3098,)\n",
      "<class 'numpy.float64'>\n",
      "[2. 2. 4. ... 2. 2. 3.]\n"
     ]
    }
   ],
   "source": [
    "print(train_data.shape)\n",
    "print(type(train_data[1][1]))\n",
    "print(train_data[1])\n",
    "print(train_labels.shape)\n",
    "print(type(train_labels[1]))\n",
    "print(train_labels)"
   ]
  },
  {
   "cell_type": "code",
   "execution_count": 10,
   "id": "04d6a65c",
   "metadata": {},
   "outputs": [
    {
     "name": "stdout",
     "output_type": "stream",
     "text": [
      "0.0\n",
      "25.999855041503906\n",
      "15.936754937483919\n"
     ]
    }
   ],
   "source": [
    "min_val = np.min(train_data)\n",
    "max_val = np.max(train_data)\n",
    "mean_val = np.mean(train_data)\n",
    "print(min_val)\n",
    "print(max_val)\n",
    "print(mean_val)"
   ]
  },
  {
   "cell_type": "code",
   "execution_count": 11,
   "id": "2e4e1b06",
   "metadata": {},
   "outputs": [
    {
     "name": "stdout",
     "output_type": "stream",
     "text": [
      "Valores normalizados: [71 76 66 ... 36 42 37]\n"
     ]
    }
   ],
   "source": [
    "# Calcular o valor mínimo e máximo do conjunto de dados\n",
    "#min_val = np.min(train_data)\n",
    "#max_val = np.max(train_data)\n",
    "min_val = 0.0\n",
    "max_val = 26\n",
    "\n",
    "# Aplicar normalização para todo o conjunto de dados\n",
    "train_data_norm = ((train_data - min_val) / (max_val - min_val)) * 255 - 128\n",
    "# Arredondar e converter para inteiros de 8 bits\n",
    "train_data_norm = train_data_norm.astype(np.int8)\n",
    "\n",
    "# Adequar labels para o tipo int8\n",
    "train_labels_norm = train_labels.astype(np.int8)\n",
    "\n",
    "# Exemplo de uso\n",
    "print(\"Valores normalizados:\", train_data_norm[1])\n"
   ]
  },
  {
   "cell_type": "code",
   "execution_count": null,
   "id": "6bfee095",
   "metadata": {},
   "outputs": [],
   "source": [
    "# Mapear valores para o range -128 a 127\n",
    "np.set_printoptions(threshold=np.inf)\n",
    "print(train_data[1])\n",
    "\n",
    "\n",
    "# Mapear o intervalo [0, 670] para [-128, 127]\n",
    "\n",
    "train_data_norm = ((((train_data * 256) + (666 / 2)) / 666) - 128)\n",
    "\n",
    "# Arredondar e converter para inteiros de 8 bits\n",
    "train_data_norm = np.round(train_data_norm).astype(np.int8)\n",
    "\n",
    "# Adequar labels para o tipo int8\n",
    "train_labels_norm = train_labels.astype(np.int8)\n",
    "print(type(train_labels_norm[1]))\n",
    "\n"
   ]
  },
  {
   "cell_type": "code",
   "execution_count": null,
   "id": "f971855f",
   "metadata": {},
   "outputs": [],
   "source": [
    "# Mapear valores para o range -128 a 127\n",
    "np.set_printoptions(threshold=np.inf)\n",
    "print(train_data[1])\n",
    "\n",
    "\n",
    "# Mapear o intervalo [-1.0, 1.0] para [-128, 127]\n",
    "#features_mapped = ((features + 1.0) * (127 + 128) / 2) - 128\n",
    "\n",
    "train_data_norm = ((train_data * 255) / 26) - 128\n",
    "\n",
    "# Arredondar e converter para inteiros de 8 bits\n",
    "train_data_norm = np.round(train_data_norm).astype(np.int8)\n",
    "\n",
    "# Adequar labels para o tipo int8\n",
    "train_labels_norm = train_labels.astype(np.int8)\n",
    "print(type(train_labels_norm[1]))\n",
    "\n"
   ]
  },
  {
   "cell_type": "code",
   "execution_count": null,
   "id": "f604757e",
   "metadata": {},
   "outputs": [],
   "source": [
    "# Exibir o resultado\n",
    "print(train_data_norm.shape)\n",
    "print(type(train_data_norm[1][1]))\n",
    "print(train_data_norm[1])"
   ]
  },
  {
   "cell_type": "code",
   "execution_count": null,
   "id": "a5e806eb",
   "metadata": {},
   "outputs": [],
   "source": [
    "#Salvar dados em .csv\n",
    "np.savetxt(\"data2.csv\", train_data, delimiter=',', fmt='%f')\n",
    "np.savetxt(\"labels2.csv\", train_labels, delimiter=',', fmt='%d')"
   ]
  },
  {
   "cell_type": "code",
   "execution_count": 14,
   "id": "e65dc4dc",
   "metadata": {},
   "outputs": [],
   "source": [
    "#Salvar dados em .csv\n",
    "np.savetxt(\"data50.csv\", train_data_norm, delimiter=',', fmt='%d')\n",
    "np.savetxt(\"labels50.csv\", train_labels_norm, delimiter=',', fmt='%d')"
   ]
  },
  {
   "cell_type": "code",
   "execution_count": 12,
   "id": "0cc88d42",
   "metadata": {},
   "outputs": [],
   "source": [
    "from sklearn.metrics import accuracy_score\n",
    "from sklearn.metrics import classification_report\n",
    "from sklearn.metrics import confusion_matrix"
   ]
  },
  {
   "cell_type": "code",
   "execution_count": 15,
   "id": "18d887d2",
   "metadata": {},
   "outputs": [
    {
     "name": "stdout",
     "output_type": "stream",
     "text": [
      "Acurácia do modelo: 0.9258064516129032\n"
     ]
    }
   ],
   "source": [
    "# Carregar dados\n",
    "X = train_data_norm\n",
    "y = train_labels_norm\n",
    "n_trees = 13\n",
    "depth = 6\n",
    "\n",
    "#Dividir dados em treinamento e testes\n",
    "X_train, X_test, y_train, y_test = train_test_split(X, y, test_size=0.2, random_state=seed)\n",
    "\n",
    "#Criar instância do classificador\n",
    "clf = RandomForestClassifier(n_estimators=n_trees, max_depth=depth, random_state=seed)\n",
    "#clf = RandomForestClassifier(n_estimators=n_trees, random_state=seed)\n",
    "\n",
    "\n",
    "#Treinar modelo\n",
    "clf.fit(X_train, y_train)\n",
    "\n",
    "#Fazer previsões com o conjunto de testes\n",
    "y_pred = clf.predict(X_test)\n",
    "\n",
    "#Analisar Desempenho do modelo\n",
    "accuracy = accuracy_score(y_test, y_pred)\n",
    "\n",
    "print(f\"Acurácia do modelo: {accuracy}\")"
   ]
  },
  {
   "cell_type": "code",
   "execution_count": 16,
   "id": "579e8ce8",
   "metadata": {},
   "outputs": [
    {
     "data": {
      "image/png": "[encoded data removed]",
      "text/plain": [
       "<Figure size 800x600 with 1 Axes>"
      ]
     },
     "metadata": {},
     "output_type": "display_data"
    }
   ],
   "source": [
    "#Montar Matriz Confusão\n",
    "cm = confusion_matrix(y_test, y_pred)\n",
    "class_names = [\"Silencio\", \"Ambiente\", \"Bom\", \"Mediano\", \"Ruim\"]\n",
    "#Configurar mapa de calor usando o seaborn\n",
    "plt.figure(figsize=(8,6))\n",
    "sns.set(font_scale=1.2)\n",
    "sns.heatmap(cm,\n",
    "            annot=True,\n",
    "            fmt=\"d\",\n",
    "            cmap=\"Blues\",\n",
    "            cbar=False,\n",
    "            square=True,\n",
    "            xticklabels=class_names,\n",
    "            yticklabels=class_names)\n",
    "\n",
    "plt.xlabel(\"Valores Preditos\")\n",
    "plt.ylabel(\"Valores Reais\")\n",
    "plt.title(\"Matriz Confusão\")\n",
    "\n",
    "plt.show()"
   ]
  },
  {
   "cell_type": "code",
   "execution_count": 17,
   "id": "f1133d12",
   "metadata": {},
   "outputs": [
    {
     "name": "stdout",
     "output_type": "stream",
     "text": [
      "              precision    recall  f1-score   support\n",
      "\n",
      "           0       0.95      0.87      0.91        83\n",
      "           1       0.93      0.75      0.83        83\n",
      "           2       0.95      0.95      0.95       193\n",
      "           3       0.83      0.97      0.89       145\n",
      "           4       1.00      1.00      1.00       116\n",
      "\n",
      "    accuracy                           0.93       620\n",
      "   macro avg       0.93      0.91      0.92       620\n",
      "weighted avg       0.93      0.93      0.92       620\n",
      "\n"
     ]
    }
   ],
   "source": [
    "#Avaliar o desempenho com várias métricas\n",
    "report = classification_report(y_test, y_pred)\n",
    "print(report)"
   ]
  },
  {
   "cell_type": "code",
   "execution_count": 18,
   "id": "0b31711d",
   "metadata": {},
   "outputs": [
    {
     "data": {
      "image/png": "[encoded data removed]",
      "text/plain": [
       "<Figure size 1000x600 with 1 Axes>"
      ]
     },
     "metadata": {},
     "output_type": "display_data"
    }
   ],
   "source": [
    "# Obtenha a importância dos recursos do modelo\n",
    "feature_importances = clf.feature_importances_\n",
    "#Escolha um mapa de cores\n",
    "cmap = plt.colormaps.get_cmap('viridis')\n",
    "\n",
    "# Crie um gráfico de importância de recursos\n",
    "plt.figure(figsize=(10, 6))\n",
    "plt.bar(range(len(feature_importances)), feature_importances, linewidth=0, color=cmap(feature_importances))\n",
    "#plt.bar(range(len(feature_importances)), feature_importances, color='blue', linewidth=0)\n",
    "plt.gca().set_facecolor('#EBEBEB')\n",
    "plt.xlabel('Recursos')\n",
    "plt.ylabel('Importância')\n",
    "plt.title('Importância dos Recursos no Modelo Random Forest')\n",
    "plt.xticks(rotation=90)\n",
    "plt.show()"
   ]
  },
  {
   "cell_type": "code",
   "execution_count": 19,
   "id": "1dca7950",
   "metadata": {},
   "outputs": [],
   "source": [
    "import dtreeviz"
   ]
  },
  {
   "cell_type": "code",
   "execution_count": 20,
   "id": "30df412f",
   "metadata": {
    "scrolled": true
   },
   "outputs": [],
   "source": [
    "# Escolha uma das árvores do modelo (por exemplo, a primeira árvore)\n",
    "n_tree = 0\n",
    "\n",
    "tree = clf.estimators_[n_tree]\n",
    "#feature_names = (str(number) for number in range(2099))\n",
    "# Crie uma visualização da árvore com a biblioteca dtreeviz\n",
    "viz = dtreeviz.model(tree, X, y,\n",
    "               target_name='classe',\n",
    "               #feature_names=data.feature_names,\n",
    "               #class_names=list(data.target_names))\n",
    "               feature_names=pd.DataFrame(X_train).columns,\n",
    "               class_names=class_names)\n",
    "\n",
    "# Exiba a visualização da árvore\n",
    "v = viz.view()\n",
    "v.show()\n",
    "\n",
    "#Salve a imagem da árvore\n",
    "v.save(\"./tree-\"+str(n_tree)+\".svg\")\n"
   ]
  },
  {
   "cell_type": "code",
   "execution_count": 21,
   "id": "5e1cadb9",
   "metadata": {},
   "outputs": [
    {
     "name": "stdout",
     "output_type": "stream",
     "text": [
      "38.0 <= 166 \n",
      "42.5 <= 312 \n",
      "455 < 39.5\n",
      "37.5 <= 824 \n",
      "995 < 59.5\n",
      "1949 < 47.5\n",
      "\n"
     ]
    },
    {
     "data": {
      "image/png": "[encoded data removed]",
      "text/plain": [
       "<Figure size 1000x600 with 1 Axes>"
      ]
     },
     "metadata": {},
     "output_type": "display_data"
    }
   ],
   "source": [
    "# Mostrar o caminho de decisão de uma amostra\n",
    "x = X[10,:]\n",
    "#print(x)\n",
    "#print(y[10])\n",
    "\n",
    "print(viz.explain_prediction_path(x))\n",
    "\n",
    "# Mostrar a importância de cada feature de uma amostra\n",
    "viz.instance_feature_importance(x, figsize=(10,6))"
   ]
  },
  {
   "cell_type": "code",
   "execution_count": 22,
   "id": "bb9bdec9",
   "metadata": {},
   "outputs": [],
   "source": [
    "# Exportar modelo para código C\n",
    "\n",
    "from micromlgen import port\n",
    "\n",
    "\n",
    "if __name__ == '__main__': \n",
    "        classmap = {\n",
    "        0: 'Silencio',\n",
    "        1: 'Ambiente',\n",
    "        2: 'Bom',\n",
    "        3: 'Mediano',\n",
    "        4: 'Ruim'\n",
    "    }\n",
    "        c_code = port(clf, classmap=classmap)\n",
    "        with open('RandomForestClassifier-Final-NORMAL-13tree-6depth-norm.h', 'w') as file:\n",
    "            file.write(c_code)"
   ]
  },
  {
   "cell_type": "code",
   "execution_count": null,
   "id": "e3163129",
   "metadata": {},
   "outputs": [],
   "source": [
    "indices = (y==0)\n",
    "classe_0 = (X[indices])\n",
    "indices = (y==1)\n",
    "classe_1 = (X[indices])\n",
    "indices = (y==2)\n",
    "classe_2 = (X[indices])\n",
    "indices = (y==3)\n",
    "classe_3 = (X[indices])\n",
    "indices = (y==4)\n",
    "classe_4 = (X[indices])"
   ]
  },
  {
   "cell_type": "code",
   "execution_count": null,
   "id": "5cf10d6a",
   "metadata": {},
   "outputs": [],
   "source": [
    "rows = 2\n",
    "cols = 3\n",
    "fig, axes = plt.subplots(rows, cols, figsize=(10, 12))\n",
    "\n",
    "ax = axes[0][0]\n",
    "ax.boxplot(np.mean(classe_0, axis=0), vert=False)\n",
    "#    ax.set_yticks(np.arange(-1.2, 1.2, 0.2))\n",
    "ax.set_title(\"Classe Silêncio\")\n",
    "\n",
    "ax = axes[0][0]\n",
    "ax.boxplot(np.mean(classe_1, axis=0), vert=False)\n",
    "#    ax.set_yticks(np.arange(-1.2, 1.2, 0.2))\n",
    "ax.set_title(\"Classe Ambiente\")\n",
    "\n",
    "ax = axes[0][1]\n",
    "ax.boxplot(np.mean(classe_2, axis=0), vert=False)\n",
    "#    ax.set_yticks(np.arange(-1.2, 1.2, 0.2))\n",
    "ax.set_title(\"Classe Bom\")\n",
    "\n",
    "ax = axes[0][2]\n",
    "ax.boxplot(np.mean(classe_3, axis=0), vert=False)\n",
    "#    ax.set_yticks(np.arange(-1.2, 1.2, 0.2))\n",
    "ax.set_title(\"Classe Mediano\")\n",
    "\n",
    "ax = axes[1][0]\n",
    "ax.boxplot(np.mean(classe_4, axis=0), vert=False)\n",
    "#    ax.set_yticks(np.arange(-1.2, 1.2, 0.2))\n",
    "ax.set_title(\"Classe Ruim\")\n",
    "\n",
    "plt.show()"
   ]
  },
  {
   "cell_type": "code",
   "execution_count": null,
   "id": "8f55307d",
   "metadata": {},
   "outputs": [],
   "source": []
  }
 ],
 "metadata": {
  "kernelspec": {
   "display_name": "Python 3 (ipykernel)",
   "language": "python",
   "name": "python3"
  },
  "language_info": {
   "codemirror_mode": {
    "name": "ipython",
    "version": 3
   },
   "file_extension": ".py",
   "mimetype": "text/x-python",
   "name": "python",
   "nbconvert_exporter": "python",
   "pygments_lexer": "ipython3",
   "version": "3.10.9"
  }
 },
 "nbformat": 4,
 "nbformat_minor": 5
}
